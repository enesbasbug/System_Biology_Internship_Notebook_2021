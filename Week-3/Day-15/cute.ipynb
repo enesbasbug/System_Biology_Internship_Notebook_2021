{
 "cells": [
  {
   "cell_type": "code",
   "execution_count": 2,
   "metadata": {},
   "outputs": [
    {
     "data": {
      "text/html": [
       "<div>\n",
       "<style scoped>\n",
       "    .dataframe tbody tr th:only-of-type {\n",
       "        vertical-align: middle;\n",
       "    }\n",
       "\n",
       "    .dataframe tbody tr th {\n",
       "        vertical-align: top;\n",
       "    }\n",
       "\n",
       "    .dataframe thead th {\n",
       "        text-align: right;\n",
       "    }\n",
       "</style>\n",
       "<table border=\"1\" class=\"dataframe\">\n",
       "  <thead>\n",
       "    <tr style=\"text-align: right;\">\n",
       "      <th></th>\n",
       "      <th>active.cases.percentage</th>\n",
       "      <th>expression.mappings</th>\n",
       "      <th>expression_data_geneId_binary.txt - % active/dysregulated</th>\n",
       "      <th>expression_data_geneId_binary.txt - Total active/dysregulated</th>\n",
       "      <th>HGNC</th>\n",
       "      <th>in.negative.list</th>\n",
       "      <th>in.positive.list</th>\n",
       "      <th>is.exception</th>\n",
       "      <th>is.mapped.to.datasets</th>\n",
       "      <th>name</th>\n",
       "      <th>node.hits</th>\n",
       "      <th>node.hits.normalized</th>\n",
       "      <th>node.total.hits</th>\n",
       "      <th>node.total.hits.normalized</th>\n",
       "      <th>selected</th>\n",
       "      <th>shared name</th>\n",
       "    </tr>\n",
       "  </thead>\n",
       "  <tbody>\n",
       "    <tr>\n",
       "      <th>0</th>\n",
       "      <td>0.0</td>\n",
       "      <td>0</td>\n",
       "      <td>0.0</td>\n",
       "      <td>0</td>\n",
       "      <td>EP300</td>\n",
       "      <td>False</td>\n",
       "      <td>False</td>\n",
       "      <td>True</td>\n",
       "      <td>no</td>\n",
       "      <td>2033</td>\n",
       "      <td>0</td>\n",
       "      <td>0.0</td>\n",
       "      <td>0</td>\n",
       "      <td>0.0</td>\n",
       "      <td>False</td>\n",
       "      <td>2033</td>\n",
       "    </tr>\n",
       "    <tr>\n",
       "      <th>1</th>\n",
       "      <td>0.0</td>\n",
       "      <td>0</td>\n",
       "      <td>0.0</td>\n",
       "      <td>0</td>\n",
       "      <td>TSG101</td>\n",
       "      <td>False</td>\n",
       "      <td>False</td>\n",
       "      <td>True</td>\n",
       "      <td>no</td>\n",
       "      <td>7251</td>\n",
       "      <td>0</td>\n",
       "      <td>0.0</td>\n",
       "      <td>0</td>\n",
       "      <td>0.0</td>\n",
       "      <td>False</td>\n",
       "      <td>7251</td>\n",
       "    </tr>\n",
       "  </tbody>\n",
       "</table>\n",
       "</div>"
      ],
      "text/plain": [
       "   active.cases.percentage  expression.mappings  \\\n",
       "0                      0.0                    0   \n",
       "1                      0.0                    0   \n",
       "\n",
       "   expression_data_geneId_binary.txt - % active/dysregulated  \\\n",
       "0                                                0.0           \n",
       "1                                                0.0           \n",
       "\n",
       "   expression_data_geneId_binary.txt - Total active/dysregulated    HGNC  \\\n",
       "0                                                  0               EP300   \n",
       "1                                                  0              TSG101   \n",
       "\n",
       "   in.negative.list  in.positive.list  is.exception is.mapped.to.datasets  \\\n",
       "0             False             False          True                    no   \n",
       "1             False             False          True                    no   \n",
       "\n",
       "   name  node.hits  node.hits.normalized  node.total.hits  \\\n",
       "0  2033          0                   0.0                0   \n",
       "1  7251          0                   0.0                0   \n",
       "\n",
       "   node.total.hits.normalized  selected  shared name  \n",
       "0                         0.0     False         2033  \n",
       "1                         0.0     False         7251  "
      ]
     },
     "execution_count": 2,
     "metadata": {},
     "output_type": "execute_result"
    }
   ],
   "source": [
    "import pandas as pd\n",
    "\n",
    "data = pd.read_csv(\"ppi_network_entrez.sif.txt_default_node_1.csv\", sep=',')\n",
    "data.head(2)"
   ]
  },
  {
   "cell_type": "code",
   "execution_count": 3,
   "metadata": {},
   "outputs": [
    {
     "data": {
      "text/plain": [
       "0     EP300\n",
       "1    TSG101\n",
       "2      BAG1\n",
       "3       MET\n",
       "4      GRK2\n",
       "Name: HGNC, dtype: object"
      ]
     },
     "execution_count": 3,
     "metadata": {},
     "output_type": "execute_result"
    }
   ],
   "source": [
    "data = data.HGNC\n",
    "data.head()"
   ]
  },
  {
   "cell_type": "code",
   "execution_count": 5,
   "metadata": {},
   "outputs": [],
   "source": [
    "data.to_csv(\"HGNC.csv\", index=False)"
   ]
  },
  {
   "cell_type": "code",
   "execution_count": null,
   "metadata": {},
   "outputs": [],
   "source": []
  }
 ],
 "metadata": {
  "kernelspec": {
   "display_name": "Python 3",
   "language": "python",
   "name": "python3"
  },
  "language_info": {
   "codemirror_mode": {
    "name": "ipython",
    "version": 3
   },
   "file_extension": ".py",
   "mimetype": "text/x-python",
   "name": "python",
   "nbconvert_exporter": "python",
   "pygments_lexer": "ipython3",
   "version": "3.8.5"
  }
 },
 "nbformat": 4,
 "nbformat_minor": 4
}
