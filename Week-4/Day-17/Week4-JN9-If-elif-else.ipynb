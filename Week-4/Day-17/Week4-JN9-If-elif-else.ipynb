{
 "cells": [
  {
   "cell_type": "markdown",
   "metadata": {},
   "source": [
    "# &nbsp;\n",
    "<font size=\"6\" color=\"#00A0B2\"  face=\"verdana\"> <B>Python Week4 - JN9</B></font>\n",
    "## Using If-Elif-Else Statements\n",
    "\n",
    "In Python Lecture 3, we have seen that we can write conditional statements, which will be executed only if a condition is met. \n",
    "\n",
    "Following exercises will help you practice how to use If-Elif-Else statements"
   ]
  },
  {
   "cell_type": "code",
   "execution_count": 1,
   "metadata": {},
   "outputs": [
    {
     "name": "stdout",
     "output_type": "stream",
     "text": [
      "Please enter a number between 0-10?  3\n",
      "N is smaller than 5, but not equal to zero\n",
      "Please enter a number between 0-10?  6\n",
      "N is equal or larger than 5\n",
      "Please enter a number between 0-10?  8\n",
      "N is equal or larger than 5\n",
      "Please enter a number between 0-10?  -1\n",
      "N is smaller than 5, but not equal to zero\n"
     ]
    }
   ],
   "source": [
    "##### [ ] Review and run the code to see how if-elif-else works\n",
    "# But first, you will have to fix a TypeError!\n",
    "N = 0\n",
    "while N != -1:\n",
    "    N = int(input('Please enter a number between 0-10?  '))\n",
    "    if (N == 0):\n",
    "        print('N equals to 0, feels so worthless')\n",
    "    elif(N < 5):\n",
    "        print('N is smaller than 5, but not equal to zero')\n",
    "    elif(N < 2):\n",
    "        print('This stament will never run, why???')\n",
    "    else:\n",
    "        print('N is equal or larger than 5')\n"
   ]
  },
  {
   "cell_type": "code",
   "execution_count": 2,
   "metadata": {},
   "outputs": [
    {
     "name": "stdout",
     "output_type": "stream",
     "text": [
      "Please enter a number between 0-10?  1\n",
      "This stament will never run, why???\n"
     ]
    }
   ],
   "source": [
    "##### [ ] Copy the if-elif-else statement and make a modification so that second elif also runs (for some cases) \n",
    "N = int(input('Please enter a number between 0-10?  '))\n",
    "if (N == 0):\n",
    "    print('N equals to 0, feels so worthless')\n",
    "elif(2 < N < 5):\n",
    "    print('N is smaller than 5, but not equal to zero')\n",
    "elif(N < 2):\n",
    "    print('This stament will never run, why???')\n",
    "else:\n",
    "    print('N is equal or larger than 5')"
   ]
  },
  {
   "cell_type": "code",
   "execution_count": 3,
   "metadata": {},
   "outputs": [
    {
     "name": "stdout",
     "output_type": "stream",
     "text": [
      "Please enter a character?  0\n",
      "your number is null\n"
     ]
    }
   ],
   "source": [
    "# [ ] Write an if-elif-else statement which checks if the input is null or not.\n",
    "M = int(input('Please enter a character?  '))\n",
    "if M > 0: print(\"your number is not null\")\n",
    "else: print(\"your number is null\")\n"
   ]
  },
  {
   "cell_type": "code",
   "execution_count": 4,
   "metadata": {
    "slideshow": {
     "slide_type": "slide"
    }
   },
   "outputs": [
    {
     "name": "stdout",
     "output_type": "stream",
     "text": [
      "Please enter a string?  hello there!, hyd\n",
      "it has more than 10 characters\n"
     ]
    }
   ],
   "source": [
    "# [ ] )Write an if-elif-else statement which checks if string A is longer than 10 characters and dsiplays a message\n",
    "A = input('Please enter a string?  ')\n",
    "if len(A) > 10:\n",
    "    print('it has more than 10 characters')\n",
    "else:\n",
    "    print('it has less than 10 char.')\n"
   ]
  },
  {
   "cell_type": "code",
   "execution_count": null,
   "metadata": {},
   "outputs": [
    {
     "name": "stdout",
     "output_type": "stream",
     "text": [
      "Please enter a number between 0-20?  5\n",
      "10\n",
      "Please enter a number between 0-20?  14\n",
      "7\n",
      "Please enter a number between 0-20?  \n",
      "Sorry, no value was entered\n"
     ]
    }
   ],
   "source": [
    "# [ ] )Write an if-elif-else statement which checks if number X is larger than 10. If it is larger than 10, divide X by 2, \n",
    "# if X is smaller than 10, multiply it with 2, display a warning if no value was entered by user and \n",
    "# display a warning if the value was a negative number and finally display another warning if the value is larger than 20.\n",
    "X = 0\n",
    "while X != -1:\n",
    "    try:\n",
    "        X = int(input('Please enter a number between 0-20?  '))\n",
    "        if X > 10:\n",
    "            print(X//2)\n",
    "        elif 0 < X < 10:\n",
    "            print(X*2)\n",
    "        else:\n",
    "            print('You are not allowed to enter negative number')\n",
    "    except ValueError:\n",
    "        print(\"Sorry, no value was entered\")\n",
    "        #better try again... Return to the start of the loop\n",
    "        continue\n",
    "        \n"
   ]
  },
  {
   "cell_type": "code",
   "execution_count": 2,
   "metadata": {},
   "outputs": [
    {
     "name": "stdout",
     "output_type": "stream",
     "text": [
      "R1 and R2 are ready to go\n"
     ]
    }
   ],
   "source": [
    "# [ ] We want both R1 and R2 reactions to be active in the cell. \n",
    "# R1 can run with either E11 or E12 enzymes.\n",
    "# R2 needs a protein complex to be formed by E21, E22 and E23 (all are needed). \n",
    "# E23 has two forms, E23A and E23B, they can replace each other.\n",
    "# Write a nested if-elif-else statement which checks if all proteins needed for R1 and R2 are available in the cell\n",
    "# and reports if both R1 and R2 can take place.\n",
    "# Change the given Cell list to test your code for different senarios:\n",
    "Cell = ['E12','E21','E22','E23B']\n",
    "\n",
    "if ('E11' in Cell or 'E12' in Cell) and ('E21' and 'E22' and 'E23B' or 'E23A' in Cell):\n",
    "    print('R1 and R2 are ready to go')"
   ]
  },
  {
   "cell_type": "code",
   "execution_count": null,
   "metadata": {},
   "outputs": [],
   "source": [
    "# Hint: You can check availability of an enzyme in the list by using 'in'\n",
    "Cell = ['E12','E21','E22','E23B']\n",
    "if ('E12' in Cell and 'E21' in Cell):\n",
    "    print('good!')"
   ]
  },
  {
   "cell_type": "markdown",
   "metadata": {},
   "source": []
  }
 ],
 "metadata": {
  "anaconda-cloud": {},
  "kernelspec": {
   "display_name": "Python 3",
   "language": "python",
   "name": "python3"
  },
  "language_info": {
   "codemirror_mode": {
    "name": "ipython",
    "version": 3
   },
   "file_extension": ".py",
   "mimetype": "text/x-python",
   "name": "python",
   "nbconvert_exporter": "python",
   "pygments_lexer": "ipython3",
   "version": "3.8.5"
  }
 },
 "nbformat": 4,
 "nbformat_minor": 1
}
