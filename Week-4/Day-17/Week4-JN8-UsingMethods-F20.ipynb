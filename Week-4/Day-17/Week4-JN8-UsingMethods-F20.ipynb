{
 "cells": [
  {
   "cell_type": "markdown",
   "metadata": {},
   "source": [
    "# &nbsp;\n",
    "<font size=\"6\" color=\"#00A0B2\"  face=\"verdana\"> <B>Python Week4 - JN8</B></font>\n",
    "## Using Methods \n",
    "\n",
    "In Python Lecture 3, we have seen that all data types in Python are classes. Every time we declare a variable, we are making an object using a class. For example, when we declare a = 1, an integer object is made and named as 'a' using the class 'integer'.\n",
    "\n",
    "As we have seen in the lecture, the classes have methods to help us use the objects made from t. Following exercises will help you practice how to use methods of objects.\n",
    "\n"
   ]
  },
  {
   "cell_type": "markdown",
   "metadata": {},
   "source": [
    "\n",
    "## Methods of Lists"
   ]
  },
  {
   "cell_type": "code",
   "execution_count": null,
   "metadata": {},
   "outputs": [],
   "source": [
    "# [ ] Review and run code to display methods of lists\n",
    "dir(list)"
   ]
  },
  {
   "cell_type": "code",
   "execution_count": 64,
   "metadata": {},
   "outputs": [],
   "source": [
    "# [ ] Review and run the code to make a list\n",
    "myC = ['White','Yellow','Orange','Red','Purple','Blue','Green','Black','Cyan','Magenta']"
   ]
  },
  {
   "cell_type": "code",
   "execution_count": 65,
   "metadata": {},
   "outputs": [
    {
     "name": "stdout",
     "output_type": "stream",
     "text": [
      "Help on built-in function clear:\n",
      "\n",
      "clear() method of builtins.list instance\n",
      "    Remove all items from list.\n",
      "\n"
     ]
    }
   ],
   "source": [
    "# [ ] Get help on a method of lists\n",
    "help(myC.clear)"
   ]
  },
  {
   "cell_type": "code",
   "execution_count": 66,
   "metadata": {},
   "outputs": [
    {
     "name": "stdout",
     "output_type": "stream",
     "text": [
      "['White', 'Yellow', 'Orange', 'Red', 'Purple', 'Blue', 'Green', 'Black', 'Cyan', 'Magenta', 'new-color', 'Red']\n",
      "myC2 : []\n",
      "number of Red item in my list : 2\n",
      "purple's index : 4\n"
     ]
    }
   ],
   "source": [
    "# [ ] Modify the list by using each of the methods: append, clear,count,extend,index,insert,pop,remove,reverse and sort\n",
    "myC.append('new-color')\n",
    "myC2 = myC.copy()\n",
    "myC2.clear()\n",
    "myC.append(\"Red\")\n",
    "\n",
    "# Print the list after each modification\n",
    "print(myC)\n",
    "print('myC2 :', myC2)\n",
    "print('number of Red item in my list :'  ,myC.count(\"Red\"))\n",
    "\n",
    "print('purple\\'s index :' ,myC.index('Purple'))\n",
    "    "
   ]
  },
  {
   "cell_type": "code",
   "execution_count": 67,
   "metadata": {},
   "outputs": [],
   "source": [
    "myC.insert(3,\"test-test\")\n"
   ]
  },
  {
   "cell_type": "code",
   "execution_count": 68,
   "metadata": {},
   "outputs": [
    {
     "name": "stdout",
     "output_type": "stream",
     "text": [
      "['White', 'Yellow', 'Orange', 'test-test', 'Red', 'Purple', 'Blue', 'Green', 'Black', 'Cyan', 'Magenta', 'new-color', 'Red']\n",
      "pop :  Red\n"
     ]
    }
   ],
   "source": [
    "print(myC)\n",
    "print('pop : ', myC.pop())"
   ]
  },
  {
   "cell_type": "code",
   "execution_count": 69,
   "metadata": {},
   "outputs": [
    {
     "name": "stdout",
     "output_type": "stream",
     "text": [
      "reverse : ['new-color', 'Magenta', 'Cyan', 'Black', 'Green', 'Blue', 'Purple', 'Red', 'test-test', 'Orange', 'Yellow', 'White']\n"
     ]
    }
   ],
   "source": [
    "myC.reverse()\n",
    "print('reverse :', myC)"
   ]
  },
  {
   "cell_type": "code",
   "execution_count": 70,
   "metadata": {},
   "outputs": [
    {
     "name": "stdout",
     "output_type": "stream",
     "text": [
      "sorted list : ['Black', 'Blue', 'Cyan', 'Green', 'Magenta', 'Orange', 'Purple', 'Red', 'White', 'Yellow', 'new-color', 'test-test']\n"
     ]
    }
   ],
   "source": [
    "myC.sort()\n",
    "print('sorted list :', myC)"
   ]
  },
  {
   "cell_type": "markdown",
   "metadata": {},
   "source": [
    "\n",
    "## Methods of Strings"
   ]
  },
  {
   "cell_type": "code",
   "execution_count": 71,
   "metadata": {
    "scrolled": true,
    "slideshow": {
     "slide_type": "slide"
    }
   },
   "outputs": [
    {
     "data": {
      "text/plain": [
       "['__add__',\n",
       " '__class__',\n",
       " '__contains__',\n",
       " '__delattr__',\n",
       " '__dir__',\n",
       " '__doc__',\n",
       " '__eq__',\n",
       " '__format__',\n",
       " '__ge__',\n",
       " '__getattribute__',\n",
       " '__getitem__',\n",
       " '__getnewargs__',\n",
       " '__gt__',\n",
       " '__hash__',\n",
       " '__init__',\n",
       " '__init_subclass__',\n",
       " '__iter__',\n",
       " '__le__',\n",
       " '__len__',\n",
       " '__lt__',\n",
       " '__mod__',\n",
       " '__mul__',\n",
       " '__ne__',\n",
       " '__new__',\n",
       " '__reduce__',\n",
       " '__reduce_ex__',\n",
       " '__repr__',\n",
       " '__rmod__',\n",
       " '__rmul__',\n",
       " '__setattr__',\n",
       " '__sizeof__',\n",
       " '__str__',\n",
       " '__subclasshook__',\n",
       " 'capitalize',\n",
       " 'casefold',\n",
       " 'center',\n",
       " 'count',\n",
       " 'encode',\n",
       " 'endswith',\n",
       " 'expandtabs',\n",
       " 'find',\n",
       " 'format',\n",
       " 'format_map',\n",
       " 'index',\n",
       " 'isalnum',\n",
       " 'isalpha',\n",
       " 'isascii',\n",
       " 'isdecimal',\n",
       " 'isdigit',\n",
       " 'isidentifier',\n",
       " 'islower',\n",
       " 'isnumeric',\n",
       " 'isprintable',\n",
       " 'isspace',\n",
       " 'istitle',\n",
       " 'isupper',\n",
       " 'join',\n",
       " 'ljust',\n",
       " 'lower',\n",
       " 'lstrip',\n",
       " 'maketrans',\n",
       " 'partition',\n",
       " 'replace',\n",
       " 'rfind',\n",
       " 'rindex',\n",
       " 'rjust',\n",
       " 'rpartition',\n",
       " 'rsplit',\n",
       " 'rstrip',\n",
       " 'split',\n",
       " 'splitlines',\n",
       " 'startswith',\n",
       " 'strip',\n",
       " 'swapcase',\n",
       " 'title',\n",
       " 'translate',\n",
       " 'upper',\n",
       " 'zfill']"
      ]
     },
     "execution_count": 71,
     "metadata": {},
     "output_type": "execute_result"
    }
   ],
   "source": [
    "# [ ] Review and run code to display methods of strings\n",
    "dir(str)"
   ]
  },
  {
   "cell_type": "code",
   "execution_count": 73,
   "metadata": {},
   "outputs": [
    {
     "name": "stdout",
     "output_type": "stream",
     "text": [
      "Price List\n",
      "Tomatoes:\t5 liras\n",
      "Potatoes:\t4 liras\n",
      "Onions:\t\t3 liras\n"
     ]
    }
   ],
   "source": [
    "# [ ] Review and run the code to make a string\n",
    "myStr = 'Price List\\nTomatoes:\\t5 liras\\nPotatoes:\\t4 liras\\nOnions:\\t\\t3 liras'\n",
    "print(myStr)\n"
   ]
  },
  {
   "cell_type": "code",
   "execution_count": 76,
   "metadata": {},
   "outputs": [
    {
     "name": "stdout",
     "output_type": "stream",
     "text": [
      "Price List\n",
      "Tomatoes:\t5 liras\n",
      "Potatoes:\t4 liras\n",
      "Onions:\t\t3 liras\n",
      "Carrot:\t\t2.5 liras\n"
     ]
    }
   ],
   "source": [
    "# [ ] Add a new item and its price to myStr (use concatenation + )\n",
    "# Display the updated myStr\n",
    "print(myStr + '\\nCarrot:\\t\\t2.5 liras')\n"
   ]
  },
  {
   "cell_type": "markdown",
   "metadata": {},
   "source": [
    "## Built-in Functions"
   ]
  },
  {
   "cell_type": "code",
   "execution_count": 97,
   "metadata": {},
   "outputs": [
    {
     "name": "stdout",
     "output_type": "stream",
     "text": [
      "2.76\n",
      "19\n",
      "-5\n"
     ]
    }
   ],
   "source": [
    "# Get help on built-in functions abs,max,min and use them for the values in list L (careful with abs()!)\n",
    "L = [-1, 5, 2, 19, -5]\n",
    "L2 = L.copy()\n",
    "print(abs(-2.76)) #mutlak deger\n",
    "print(max(L2))\n",
    "print(min(L2))"
   ]
  },
  {
   "cell_type": "code",
   "execution_count": 106,
   "metadata": {},
   "outputs": [
    {
     "name": "stdout",
     "output_type": "stream",
     "text": [
      "0b100000\n",
      "0x20\n",
      "0o40\n"
     ]
    }
   ],
   "source": [
    "# Get help on built-in functions bin,hex,oct and use them for two of the values in list N\n",
    "N = [1, 2, 4, 8, 16, 32, 64, 128, 256]\n",
    "print(bin(N[5]))\n",
    "print(hex(N[5]))\n",
    "print(oct(N[5]))\n"
   ]
  },
  {
   "cell_type": "code",
   "execution_count": 120,
   "metadata": {},
   "outputs": [
    {
     "name": "stdout",
     "output_type": "stream",
     "text": [
      "}\n",
      "115\n"
     ]
    }
   ],
   "source": [
    "# Get help on built-in functions chr and ord, then use them for the characters in list M and list K\n",
    "M = ['s','str','-']\n",
    "K = [35,63,125]\n",
    "print(chr(K[2]))\n",
    "print(ord(M[0]))"
   ]
  },
  {
   "cell_type": "markdown",
   "metadata": {},
   "source": [
    "Pınar Pir - 2019-2020 - Gebze Technical University"
   ]
  }
 ],
 "metadata": {
  "anaconda-cloud": {},
  "kernelspec": {
   "display_name": "Python 3",
   "language": "python",
   "name": "python3"
  },
  "language_info": {
   "codemirror_mode": {
    "name": "ipython",
    "version": 3
   },
   "file_extension": ".py",
   "mimetype": "text/x-python",
   "name": "python",
   "nbconvert_exporter": "python",
   "pygments_lexer": "ipython3",
   "version": "3.8.5"
  }
 },
 "nbformat": 4,
 "nbformat_minor": 1
}
