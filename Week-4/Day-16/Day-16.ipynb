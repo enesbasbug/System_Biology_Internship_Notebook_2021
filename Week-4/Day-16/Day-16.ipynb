{
 "cells": [
  {
   "cell_type": "markdown",
   "metadata": {},
   "source": [
    "# 1-1.2 Intro Python\n",
    "##  Getting started with Python in Jupyter Notebooks\n",
    "- Python 3 in Jupyter notebooks\n",
    "- `print()`\n",
    "- Comments  \n",
    "- **data types basics**\n",
    "- **variables  **\n",
    "- addition with Strings and Integers \n",
    "- Errors\n",
    "- character art  \n",
    "\n",
    "-----"
   ]
  },
  {
   "cell_type": "code",
   "execution_count": 2,
   "metadata": {},
   "outputs": [
    {
     "name": "stdout",
     "output_type": "stream",
     "text": [
      "enes\n"
     ]
    }
   ],
   "source": [
    "# [ ] assign a string value to a variable student_name\n",
    "student_name = 'enes'\n",
    "# [ ] print the value of variable student_name\n",
    "print(student_name)\n"
   ]
  },
  {
   "cell_type": "code",
   "execution_count": 3,
   "metadata": {},
   "outputs": [
    {
     "name": "stdout",
     "output_type": "stream",
     "text": [
      "kevin\n",
      "dave\n"
     ]
    }
   ],
   "source": [
    "# [ ] assign the student_name variable  a different string value (a different name)\n",
    "student_name = 'kevin'\n",
    "# [ ] print the value of variable student_name\n",
    "print(student_name)\n",
    "# [ ] assign a 3rd different string value, to the variable name \n",
    "student_name = 'dave'\n",
    "# [ ] print the value of variable name\n",
    "print(student_name)"
   ]
  },
  {
   "cell_type": "code",
   "execution_count": 4,
   "metadata": {},
   "outputs": [
    {
     "name": "stdout",
     "output_type": "stream",
     "text": [
      "Covid-19\n"
     ]
    }
   ],
   "source": [
    "# [ ] assigning a value to a variable called bucket\n",
    "bucket = 'Covid-'\n",
    "# [ ] print the value of bucket \n",
    "print(bucket, end='')\n",
    "# [ ] assign an Integer value (no quotes) to the variable bucket\n",
    "bucket = 19\n",
    "# [ ] print the value of bucket \n",
    "print(bucket)\n"
   ]
  },
  {
   "cell_type": "code",
   "execution_count": 5,
   "metadata": {},
   "outputs": [
    {
     "name": "stdout",
     "output_type": "stream",
     "text": [
      "<class 'str'>\n",
      "123\n",
      "123100\n",
      "==========\n",
      "<class 'int'>\n",
      "123\n",
      "223\n"
     ]
    }
   ],
   "source": [
    "# [ ] print integer 123 number\n",
    "print(type('123'))\n",
    "print('123')\n",
    "print('123' + '100')\n",
    "print('==========')\n",
    "# [ ] print string \"123\" number\n",
    "print(type(123))\n",
    "print(123)\n",
    "print(123 + 100)\n"
   ]
  },
  {
   "cell_type": "code",
   "execution_count": null,
   "metadata": {},
   "outputs": [],
   "source": []
  }
 ],
 "metadata": {
  "kernelspec": {
   "display_name": "Python 3",
   "language": "python",
   "name": "python3"
  },
  "language_info": {
   "codemirror_mode": {
    "name": "ipython",
    "version": 3
   },
   "file_extension": ".py",
   "mimetype": "text/x-python",
   "name": "python",
   "nbconvert_exporter": "python",
   "pygments_lexer": "ipython3",
   "version": "3.8.5"
  }
 },
 "nbformat": 4,
 "nbformat_minor": 4
}
